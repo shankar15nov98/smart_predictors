{
 "cells": [
  {
   "cell_type": "code",
   "execution_count": 1,
   "metadata": {
    "ExecuteTime": {
     "end_time": "2019-07-03T16:23:34.228072Z",
     "start_time": "2019-07-03T16:22:58.880493Z"
    }
   },
   "outputs": [
    {
     "name": "stderr",
     "output_type": "stream",
     "text": [
      "Using TensorFlow backend.\n"
     ]
    }
   ],
   "source": [
    "from keras.models import Sequential\n",
    "from keras.layers import Dense\n",
    "from keras.layers import Conv2D\n",
    "from keras.layers import MaxPooling2D\n",
    "from keras.layers import Flatten"
   ]
  },
  {
   "cell_type": "code",
   "execution_count": 3,
   "metadata": {
    "ExecuteTime": {
     "end_time": "2019-07-03T16:30:04.594072Z",
     "start_time": "2019-07-03T16:30:04.031171Z"
    }
   },
   "outputs": [],
   "source": [
    "cnn_model = Sequential()"
   ]
  },
  {
   "cell_type": "code",
   "execution_count": 4,
   "metadata": {
    "ExecuteTime": {
     "end_time": "2019-07-03T16:30:05.463977Z",
     "start_time": "2019-07-03T16:30:05.135003Z"
    }
   },
   "outputs": [
    {
     "name": "stderr",
     "output_type": "stream",
     "text": [
      "C:\\Users\\veepp\\Miniconda3\\lib\\site-packages\\ipykernel_launcher.py:1: UserWarning: Update your `Conv2D` call to the Keras 2 API: `Conv2D(128, (4, 4), input_shape=(224, 224,..., activation=\"relu\")`\n",
      "  \"\"\"Entry point for launching an IPython kernel.\n"
     ]
    },
    {
     "name": "stdout",
     "output_type": "stream",
     "text": [
      "WARNING:tensorflow:From C:\\Users\\veepp\\Miniconda3\\lib\\site-packages\\tensorflow\\python\\framework\\op_def_library.py:263: colocate_with (from tensorflow.python.framework.ops) is deprecated and will be removed in a future version.\n",
      "Instructions for updating:\n",
      "Colocations handled automatically by placer.\n"
     ]
    }
   ],
   "source": [
    "cnn_model.add(Conv2D(128 ,4, 4 , input_shape = (224,224,3) , activation = \"relu\"))"
   ]
  },
  {
   "cell_type": "code",
   "execution_count": 5,
   "metadata": {
    "ExecuteTime": {
     "end_time": "2019-07-03T16:30:10.197946Z",
     "start_time": "2019-07-03T16:30:10.150077Z"
    }
   },
   "outputs": [
    {
     "name": "stderr",
     "output_type": "stream",
     "text": [
      "C:\\Users\\veepp\\Miniconda3\\lib\\site-packages\\ipykernel_launcher.py:2: UserWarning: Update your `Conv2D` call to the Keras 2 API: `Conv2D(128, (4, 4), activation=\"relu\")`\n",
      "  \n",
      "C:\\Users\\veepp\\Miniconda3\\lib\\site-packages\\ipykernel_launcher.py:4: UserWarning: Update your `Conv2D` call to the Keras 2 API: `Conv2D(128, (4, 4), activation=\"relu\")`\n",
      "  after removing the cwd from sys.path.\n"
     ]
    }
   ],
   "source": [
    "cnn_model.add(MaxPooling2D(pool_size = (2,2)))\n",
    "cnn_model.add(Conv2D(128 ,4, 4, activation = \"relu\"))\n",
    "cnn_model.add(MaxPooling2D(pool_size = (2,2)))\n",
    "cnn_model.add(Conv2D(128 ,4, 4, activation = \"relu\"))\n",
    "cnn_model.add(MaxPooling2D(pool_size = (2,2)))"
   ]
  },
  {
   "cell_type": "code",
   "execution_count": 6,
   "metadata": {
    "ExecuteTime": {
     "end_time": "2019-07-03T16:30:11.580004Z",
     "start_time": "2019-07-03T16:30:11.422409Z"
    }
   },
   "outputs": [],
   "source": [
    "cnn_model.add(Flatten())"
   ]
  },
  {
   "cell_type": "code",
   "execution_count": 46,
   "metadata": {
    "ExecuteTime": {
     "end_time": "2019-07-03T05:52:45.164982Z",
     "start_time": "2019-07-03T05:52:45.161007Z"
    }
   },
   "outputs": [],
   "source": [
    "#cnn_model.add(Dense(init = \"random_uniform\" , activation = \"relu\" , output_dim = 32))"
   ]
  },
  {
   "cell_type": "code",
   "execution_count": 47,
   "metadata": {
    "ExecuteTime": {
     "end_time": "2019-07-03T05:52:45.319572Z",
     "start_time": "2019-07-03T05:52:45.315583Z"
    }
   },
   "outputs": [],
   "source": [
    "#cnn_model.add(Dense(init = \"random_uniform\" , activation = \"relu\" , output_dim = 64))"
   ]
  },
  {
   "cell_type": "code",
   "execution_count": 48,
   "metadata": {
    "ExecuteTime": {
     "end_time": "2019-07-03T05:52:45.467297Z",
     "start_time": "2019-07-03T05:52:45.463344Z"
    }
   },
   "outputs": [],
   "source": [
    "#cnn_model.add(Dense(init = \"random_uniform\" , activation = \"relu\" , output_dim = 128))"
   ]
  },
  {
   "cell_type": "code",
   "execution_count": 49,
   "metadata": {
    "ExecuteTime": {
     "end_time": "2019-07-03T05:52:45.615937Z",
     "start_time": "2019-07-03T05:52:45.611957Z"
    }
   },
   "outputs": [],
   "source": [
    "#cnn_model.add(Dense(init = \"random_uniform\" , activation = \"relu\" , output_dim = 256))"
   ]
  },
  {
   "cell_type": "code",
   "execution_count": 9,
   "metadata": {
    "ExecuteTime": {
     "end_time": "2019-07-03T16:31:34.235448Z",
     "start_time": "2019-07-03T16:31:34.214505Z"
    }
   },
   "outputs": [
    {
     "name": "stderr",
     "output_type": "stream",
     "text": [
      "C:\\Users\\veepp\\Miniconda3\\lib\\site-packages\\ipykernel_launcher.py:1: UserWarning: Update your `Dense` call to the Keras 2 API: `Dense(activation=\"relu\", units=250, kernel_initializer=\"random_uniform\")`\n",
      "  \"\"\"Entry point for launching an IPython kernel.\n"
     ]
    }
   ],
   "source": [
    "cnn_model.add(Dense(init = \"random_uniform\" , activation = \"relu\" , output_dim = 250))"
   ]
  },
  {
   "cell_type": "code",
   "execution_count": 10,
   "metadata": {
    "ExecuteTime": {
     "end_time": "2019-07-03T16:31:34.786095Z",
     "start_time": "2019-07-03T16:31:34.766150Z"
    }
   },
   "outputs": [
    {
     "name": "stderr",
     "output_type": "stream",
     "text": [
      "C:\\Users\\veepp\\Miniconda3\\lib\\site-packages\\ipykernel_launcher.py:1: UserWarning: Update your `Dense` call to the Keras 2 API: `Dense(activation=\"relu\", units=250, kernel_initializer=\"random_uniform\")`\n",
      "  \"\"\"Entry point for launching an IPython kernel.\n"
     ]
    }
   ],
   "source": [
    "cnn_model.add(Dense(init = \"random_uniform\" , activation = \"relu\" , output_dim = 250))"
   ]
  },
  {
   "cell_type": "code",
   "execution_count": 11,
   "metadata": {
    "ExecuteTime": {
     "end_time": "2019-07-03T16:31:35.587164Z",
     "start_time": "2019-07-03T16:31:35.566185Z"
    }
   },
   "outputs": [
    {
     "name": "stderr",
     "output_type": "stream",
     "text": [
      "C:\\Users\\veepp\\Miniconda3\\lib\\site-packages\\ipykernel_launcher.py:1: UserWarning: Update your `Dense` call to the Keras 2 API: `Dense(activation=\"relu\", units=250, kernel_initializer=\"random_uniform\")`\n",
      "  \"\"\"Entry point for launching an IPython kernel.\n"
     ]
    }
   ],
   "source": [
    "cnn_model.add(Dense(init = \"random_uniform\" , activation = \"relu\" , output_dim = 250))"
   ]
  },
  {
   "cell_type": "code",
   "execution_count": 13,
   "metadata": {
    "ExecuteTime": {
     "end_time": "2019-07-03T16:31:43.939509Z",
     "start_time": "2019-07-03T16:31:43.919563Z"
    }
   },
   "outputs": [
    {
     "name": "stderr",
     "output_type": "stream",
     "text": [
      "C:\\Users\\veepp\\Miniconda3\\lib\\site-packages\\ipykernel_launcher.py:1: UserWarning: Update your `Dense` call to the Keras 2 API: `Dense(activation=\"softmax\", units=4, kernel_initializer=\"random_uniform\")`\n",
      "  \"\"\"Entry point for launching an IPython kernel.\n"
     ]
    }
   ],
   "source": [
    "cnn_model.add(Dense(init = \"random_uniform\" , activation = \"softmax\" , output_dim = 4))"
   ]
  },
  {
   "cell_type": "code",
   "execution_count": 14,
   "metadata": {
    "ExecuteTime": {
     "end_time": "2019-07-03T16:31:48.041143Z",
     "start_time": "2019-07-03T16:31:47.990398Z"
    }
   },
   "outputs": [],
   "source": [
    "cnn_model.compile(optimizer= \"adam\", loss = \"categorical_crossentropy\", metrics= [\"accuracy\"])"
   ]
  },
  {
   "cell_type": "code",
   "execution_count": 15,
   "metadata": {
    "ExecuteTime": {
     "end_time": "2019-07-03T16:31:49.412595Z",
     "start_time": "2019-07-03T16:31:49.407608Z"
    }
   },
   "outputs": [],
   "source": [
    "from keras.preprocessing.image import ImageDataGenerator"
   ]
  },
  {
   "cell_type": "code",
   "execution_count": 16,
   "metadata": {
    "ExecuteTime": {
     "end_time": "2019-07-03T16:32:35.818573Z",
     "start_time": "2019-07-03T16:32:35.814586Z"
    }
   },
   "outputs": [],
   "source": [
    "train_datagen = ImageDataGenerator(\n",
    "        rescale = 1./255,\n",
    "        shear_range = 0.2,\n",
    "        zoom_range = 0.2)"
   ]
  },
  {
   "cell_type": "code",
   "execution_count": 17,
   "metadata": {
    "ExecuteTime": {
     "end_time": "2019-07-03T16:32:50.890239Z",
     "start_time": "2019-07-03T16:32:50.886252Z"
    }
   },
   "outputs": [],
   "source": [
    "test_datagen = ImageDataGenerator(rescale=1./255)"
   ]
  },
  {
   "cell_type": "code",
   "execution_count": 18,
   "metadata": {
    "ExecuteTime": {
     "end_time": "2019-07-03T16:33:32.332401Z",
     "start_time": "2019-07-03T16:33:31.750493Z"
    }
   },
   "outputs": [
    {
     "name": "stdout",
     "output_type": "stream",
     "text": [
      "Found 7684 images belonging to 4 classes.\n"
     ]
    }
   ],
   "source": [
    "x_train = test_datagen.flow_from_directory(\n",
    "        'train/',\n",
    "        target_size=(224, 224),\n",
    "        batch_size=32,\n",
    "        class_mode='categorical')"
   ]
  },
  {
   "cell_type": "code",
   "execution_count": 19,
   "metadata": {
    "ExecuteTime": {
     "end_time": "2019-07-03T16:33:54.420229Z",
     "start_time": "2019-07-03T16:33:54.309591Z"
    }
   },
   "outputs": [
    {
     "name": "stdout",
     "output_type": "stream",
     "text": [
      "Found 356 images belonging to 4 classes.\n"
     ]
    }
   ],
   "source": [
    "x_test = test_datagen.flow_from_directory(\n",
    "        'test/',\n",
    "        target_size=(224,224),\n",
    "        batch_size=32,\n",
    "        class_mode='categorical')"
   ]
  },
  {
   "cell_type": "code",
   "execution_count": 20,
   "metadata": {
    "ExecuteTime": {
     "end_time": "2019-07-03T22:38:05.354210Z",
     "start_time": "2019-07-03T16:35:13.102081Z"
    }
   },
   "outputs": [
    {
     "name": "stdout",
     "output_type": "stream",
     "text": [
      "WARNING:tensorflow:From C:\\Users\\veepp\\Miniconda3\\lib\\site-packages\\tensorflow\\python\\ops\\math_ops.py:3066: to_int32 (from tensorflow.python.ops.math_ops) is deprecated and will be removed in a future version.\n",
      "Instructions for updating:\n",
      "Use tf.cast instead.\n",
      "Epoch 1/30\n",
      "241/241 [==============================] - 1953s 8s/step - loss: 1.2906 - acc: 0.4529 - val_loss: 1.3158 - val_acc: 0.3483\n",
      "Epoch 2/30\n",
      "241/241 [==============================] - 1899s 8s/step - loss: 1.2087 - acc: 0.4572 - val_loss: 1.3215 - val_acc: 0.3483\n",
      "Epoch 3/30\n",
      "241/241 [==============================] - 1903s 8s/step - loss: 1.1894 - acc: 0.4581 - val_loss: 1.3325 - val_acc: 0.3483\n",
      "Epoch 4/30\n",
      "241/241 [==============================] - 1885s 8s/step - loss: 1.1831 - acc: 0.4581 - val_loss: 1.3382 - val_acc: 0.3483\n",
      "Epoch 5/30\n",
      "241/241 [==============================] - 1883s 8s/step - loss: 1.1826 - acc: 0.4572 - val_loss: 1.3418 - val_acc: 0.3483\n",
      "Epoch 6/30\n",
      "241/241 [==============================] - 1894s 8s/step - loss: 1.1810 - acc: 0.4581 - val_loss: 1.3429 - val_acc: 0.3483\n",
      "Epoch 7/30\n",
      "241/241 [==============================] - 1885s 8s/step - loss: 1.1819 - acc: 0.4572 - val_loss: 1.3466 - val_acc: 0.3483\n",
      "Epoch 8/30\n",
      "241/241 [==============================] - 1896s 8s/step - loss: 1.1819 - acc: 0.4572 - val_loss: 1.3454 - val_acc: 0.3483\n",
      "Epoch 9/30\n",
      "241/241 [==============================] - 1881s 8s/step - loss: 1.1805 - acc: 0.4590 - val_loss: 1.3451 - val_acc: 0.3483\n",
      "Epoch 10/30\n",
      "241/241 [==============================] - 1897s 8s/step - loss: 1.1811 - acc: 0.4572 - val_loss: 1.3460 - val_acc: 0.3483\n",
      "Epoch 11/30\n",
      "241/241 [==============================] - 1881s 8s/step - loss: 1.1835 - acc: 0.4563 - val_loss: 1.3461 - val_acc: 0.3483\n",
      "Epoch 12/30\n",
      "115/241 [=============>................] - ETA: 16:22 - loss: 1.1809 - acc: 0.4603"
     ]
    },
    {
     "name": "stderr",
     "output_type": "stream",
     "text": [
      "ERROR:root:Internal Python error in the inspect module.\n",
      "Below is the traceback from this internal error.\n",
      "\n",
      "\n",
      "KeyboardInterrupt\n",
      "\n"
     ]
    }
   ],
   "source": [
    "cnn_model.fit_generator(\n",
    "        x_train,\n",
    "        steps_per_epoch = 900,    #no of images / batch_size\n",
    "        epochs = 30,\n",
    "        validation_data = x_test,\n",
    "        validation_steps = 220)    #no of images(test) / batch size"
   ]
  },
  {
   "cell_type": "code",
   "execution_count": 43,
   "metadata": {
    "ExecuteTime": {
     "end_time": "2019-07-02T14:13:53.115701Z",
     "start_time": "2019-07-02T14:13:51.693789Z"
    }
   },
   "outputs": [],
   "source": [
    "cnn_model.save(\"cnn_model.h5\")"
   ]
  },
  {
   "cell_type": "code",
   "execution_count": 44,
   "metadata": {
    "ExecuteTime": {
     "end_time": "2019-07-02T14:39:32.676314Z",
     "start_time": "2019-07-02T14:39:32.668312Z"
    }
   },
   "outputs": [
    {
     "data": {
      "text/plain": [
       "{'angry': 0,\n",
       " 'disgust': 1,\n",
       " 'fear': 2,\n",
       " 'happy': 3,\n",
       " 'neutral': 4,\n",
       " 'sad': 5,\n",
       " 'surprise': 6}"
      ]
     },
     "execution_count": 44,
     "metadata": {},
     "output_type": "execute_result"
    }
   ],
   "source": [
    "x_train.class_indices"
   ]
  },
  {
   "cell_type": "code",
   "execution_count": 49,
   "metadata": {
    "ExecuteTime": {
     "end_time": "2019-07-02T14:51:52.503307Z",
     "start_time": "2019-07-02T14:51:22.878394Z"
    }
   },
   "outputs": [
    {
     "name": "stdout",
     "output_type": "stream",
     "text": [
      "[6]\n"
     ]
    },
    {
     "ename": "NameError",
     "evalue": "name 'gui' is not defined",
     "output_type": "error",
     "traceback": [
      "\u001b[1;31m---------------------------------------------------------------------------\u001b[0m",
      "\u001b[1;31mNameError\u001b[0m                                 Traceback (most recent call last)",
      "\u001b[1;32m<ipython-input-49-63e32ddc7603>\u001b[0m in \u001b[0;36m<module>\u001b[1;34m\u001b[0m\n\u001b[0;32m     36\u001b[0m \u001b[1;33m\u001b[0m\u001b[0m\n\u001b[0;32m     37\u001b[0m \u001b[0mroot\u001b[0m\u001b[1;33m.\u001b[0m\u001b[0mmainloop\u001b[0m\u001b[1;33m(\u001b[0m\u001b[1;33m)\u001b[0m\u001b[1;33m\u001b[0m\u001b[1;33m\u001b[0m\u001b[0m\n\u001b[1;32m---> 38\u001b[1;33m \u001b[0mgui\u001b[0m\u001b[1;33m.\u001b[0m\u001b[0mpy\u001b[0m\u001b[1;33m\u001b[0m\u001b[1;33m\u001b[0m\u001b[0m\n\u001b[0m",
      "\u001b[1;31mNameError\u001b[0m: name 'gui' is not defined"
     ]
    }
   ],
   "source": [
    "import numpy as np\n",
    "from keras.preprocessing import image\n",
    "\n",
    "from tkinter import *\n",
    "from PIL import ImageTk, Image\n",
    "from tkinter import filedialog\n",
    "import os\n",
    "from keras.models import load_model\n",
    "classifier = load_model('cnn_model.h5')\n",
    "classifier.compile(optimizer = 'adam', loss = 'categorical_crossentropy', metrics = ['accuracy'])\n",
    "root = Tk()\n",
    "root.geometry(\"550x300+300+150\")\n",
    "root.resizable(width=True, height=True)\n",
    "\n",
    "def openfn():\n",
    "    filename = filedialog.askopenfilename(title='open')\n",
    "    return filename\n",
    "def open_img():\n",
    "    x = openfn()\n",
    "    test_image = image.load_img(x, target_size = (48, 48))\n",
    "    test_image = image.img_to_array(test_image)\n",
    "    test_image = np.expand_dims(test_image, axis = 0)\n",
    "    result = classifier.predict_classes(test_image)\n",
    "    print(result)\n",
    "    index=['angry' , 'disgust','fear','happy','neutral','sad','surprise']\n",
    "    label = Label(root, text=\"Prediction : \"+index[result[0]])\n",
    "    label.pack()\n",
    "    img = Image.open(x)\n",
    "    img = img.resize((250, 250), Image.ANTIALIAS)\n",
    "    img = ImageTk.PhotoImage(img)\n",
    "    panel = Label(root, image=img)\n",
    "    panel.image = img\n",
    "    panel.pack()\n",
    "\n",
    "btn = Button(root, text='open image', command=open_img).pack()\n",
    "\n",
    "root.mainloop()\n",
    "gui.py"
   ]
  },
  {
   "cell_type": "code",
   "execution_count": null,
   "metadata": {},
   "outputs": [],
   "source": []
  }
 ],
 "metadata": {
  "kernelspec": {
   "display_name": "Python 3",
   "language": "python",
   "name": "python3"
  },
  "language_info": {
   "codemirror_mode": {
    "name": "ipython",
    "version": 3
   },
   "file_extension": ".py",
   "mimetype": "text/x-python",
   "name": "python",
   "nbconvert_exporter": "python",
   "pygments_lexer": "ipython3",
   "version": "3.7.3"
  },
  "varInspector": {
   "cols": {
    "lenName": 16,
    "lenType": 16,
    "lenVar": 40
   },
   "kernels_config": {
    "python": {
     "delete_cmd_postfix": "",
     "delete_cmd_prefix": "del ",
     "library": "var_list.py",
     "varRefreshCmd": "print(var_dic_list())"
    },
    "r": {
     "delete_cmd_postfix": ") ",
     "delete_cmd_prefix": "rm(",
     "library": "var_list.r",
     "varRefreshCmd": "cat(var_dic_list()) "
    }
   },
   "types_to_exclude": [
    "module",
    "function",
    "builtin_function_or_method",
    "instance",
    "_Feature"
   ],
   "window_display": false
  }
 },
 "nbformat": 4,
 "nbformat_minor": 2
}
