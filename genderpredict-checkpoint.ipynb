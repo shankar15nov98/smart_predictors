{
 "cells": [
  {
   "cell_type": "code",
   "execution_count": null,
   "metadata": {},
   "outputs": [],
   "source": []
  },
  {
   "cell_type": "code",
   "execution_count": 65,
   "metadata": {},
   "outputs": [],
   "source": [
    "\n",
    "import types\n",
    "import pandas as pd\n",
    "from botocore.client import Config\n",
    "import ibm_boto3\n",
    "\n",
    "def __iter__(self): return 0\n",
    "\n",
    "# @hidden_cell\n",
    "# The following code accesses a file in your IBM Cloud Object Storage. It includes your credentials.\n",
    "# You might want to remove those credentials before you share your notebook.\n",
    "client_fb79abb3e90b4d559452e958b889a0e1 = ibm_boto3.client(service_name='s3',\n",
    "    ibm_api_key_id='tEbg9RnowWbwICrYqDBSgs54L9Scw69URT2RIHokE2CL',\n",
    "    ibm_auth_endpoint=\"https://iam.bluemix.net/oidc/token\",\n",
    "    config=Config(signature_version='oauth'),\n",
    "    endpoint_url='https://s3.eu-geo.objectstorage.service.networklayer.com')\n",
    "\n",
    "body = client_fb79abb3e90b4d559452e958b889a0e1.get_object(Bucket='genderprediction-donotdelete-pr-ewlcw4cinqf6qs',Key='proj.csv')['Body']\n",
    "# add missing __iter__ method, so pandas accepts body as file-like object\n",
    "if not hasattr(body, \"__iter__\"): body.__iter__ = types.MethodType( __iter__, body )\n",
    "\n",
    "data = pd.read_csv(body)\n",
    "data.head()\n",
    "\n",
    "import numpy as np\n",
    "import pandas as pd\n",
    "import matplotlib.pyplot as plt"
   ]
  },
  {
   "cell_type": "code",
   "execution_count": 66,
   "metadata": {},
   "outputs": [
    {
     "data": {
      "text/html": [
       "<div>\n",
       "<style scoped>\n",
       "    .dataframe tbody tr th:only-of-type {\n",
       "        vertical-align: middle;\n",
       "    }\n",
       "\n",
       "    .dataframe tbody tr th {\n",
       "        vertical-align: top;\n",
       "    }\n",
       "\n",
       "    .dataframe thead th {\n",
       "        text-align: right;\n",
       "    }\n",
       "</style>\n",
       "<table border=\"1\" class=\"dataframe\">\n",
       "  <thead>\n",
       "    <tr style=\"text-align: right;\">\n",
       "      <th></th>\n",
       "      <th>age</th>\n",
       "      <th>month</th>\n",
       "      <th>output</th>\n",
       "    </tr>\n",
       "  </thead>\n",
       "  <tbody>\n",
       "    <tr>\n",
       "      <th>0</th>\n",
       "      <td>22</td>\n",
       "      <td>january</td>\n",
       "      <td>G</td>\n",
       "    </tr>\n",
       "    <tr>\n",
       "      <th>1</th>\n",
       "      <td>26</td>\n",
       "      <td>july</td>\n",
       "      <td>G</td>\n",
       "    </tr>\n",
       "    <tr>\n",
       "      <th>2</th>\n",
       "      <td>45</td>\n",
       "      <td>july</td>\n",
       "      <td>B</td>\n",
       "    </tr>\n",
       "    <tr>\n",
       "      <th>3</th>\n",
       "      <td>24</td>\n",
       "      <td>may</td>\n",
       "      <td>G</td>\n",
       "    </tr>\n",
       "    <tr>\n",
       "      <th>4</th>\n",
       "      <td>42</td>\n",
       "      <td>november</td>\n",
       "      <td>B</td>\n",
       "    </tr>\n",
       "    <tr>\n",
       "      <th>5</th>\n",
       "      <td>24</td>\n",
       "      <td>march</td>\n",
       "      <td>B</td>\n",
       "    </tr>\n",
       "    <tr>\n",
       "      <th>6</th>\n",
       "      <td>35</td>\n",
       "      <td>november</td>\n",
       "      <td>B</td>\n",
       "    </tr>\n",
       "    <tr>\n",
       "      <th>7</th>\n",
       "      <td>23</td>\n",
       "      <td>april</td>\n",
       "      <td>B</td>\n",
       "    </tr>\n",
       "    <tr>\n",
       "      <th>8</th>\n",
       "      <td>22</td>\n",
       "      <td>august</td>\n",
       "      <td>B</td>\n",
       "    </tr>\n",
       "    <tr>\n",
       "      <th>9</th>\n",
       "      <td>40</td>\n",
       "      <td>december</td>\n",
       "      <td>G</td>\n",
       "    </tr>\n",
       "    <tr>\n",
       "      <th>10</th>\n",
       "      <td>27</td>\n",
       "      <td>september</td>\n",
       "      <td>B</td>\n",
       "    </tr>\n",
       "    <tr>\n",
       "      <th>11</th>\n",
       "      <td>40</td>\n",
       "      <td>january</td>\n",
       "      <td>G</td>\n",
       "    </tr>\n",
       "    <tr>\n",
       "      <th>12</th>\n",
       "      <td>39</td>\n",
       "      <td>april</td>\n",
       "      <td>B</td>\n",
       "    </tr>\n",
       "    <tr>\n",
       "      <th>13</th>\n",
       "      <td>37</td>\n",
       "      <td>march</td>\n",
       "      <td>B</td>\n",
       "    </tr>\n",
       "    <tr>\n",
       "      <th>14</th>\n",
       "      <td>32</td>\n",
       "      <td>august</td>\n",
       "      <td>G</td>\n",
       "    </tr>\n",
       "    <tr>\n",
       "      <th>15</th>\n",
       "      <td>23</td>\n",
       "      <td>november</td>\n",
       "      <td>B</td>\n",
       "    </tr>\n",
       "    <tr>\n",
       "      <th>16</th>\n",
       "      <td>25</td>\n",
       "      <td>september</td>\n",
       "      <td>B</td>\n",
       "    </tr>\n",
       "    <tr>\n",
       "      <th>17</th>\n",
       "      <td>42</td>\n",
       "      <td>may</td>\n",
       "      <td>G</td>\n",
       "    </tr>\n",
       "    <tr>\n",
       "      <th>18</th>\n",
       "      <td>34</td>\n",
       "      <td>january</td>\n",
       "      <td>B</td>\n",
       "    </tr>\n",
       "    <tr>\n",
       "      <th>19</th>\n",
       "      <td>34</td>\n",
       "      <td>july</td>\n",
       "      <td>G</td>\n",
       "    </tr>\n",
       "    <tr>\n",
       "      <th>20</th>\n",
       "      <td>40</td>\n",
       "      <td>april</td>\n",
       "      <td>B</td>\n",
       "    </tr>\n",
       "    <tr>\n",
       "      <th>21</th>\n",
       "      <td>21</td>\n",
       "      <td>may</td>\n",
       "      <td>G</td>\n",
       "    </tr>\n",
       "    <tr>\n",
       "      <th>22</th>\n",
       "      <td>36</td>\n",
       "      <td>june</td>\n",
       "      <td>G</td>\n",
       "    </tr>\n",
       "    <tr>\n",
       "      <th>23</th>\n",
       "      <td>45</td>\n",
       "      <td>april</td>\n",
       "      <td>G</td>\n",
       "    </tr>\n",
       "    <tr>\n",
       "      <th>24</th>\n",
       "      <td>26</td>\n",
       "      <td>september</td>\n",
       "      <td>G</td>\n",
       "    </tr>\n",
       "    <tr>\n",
       "      <th>25</th>\n",
       "      <td>28</td>\n",
       "      <td>october</td>\n",
       "      <td>B</td>\n",
       "    </tr>\n",
       "    <tr>\n",
       "      <th>26</th>\n",
       "      <td>37</td>\n",
       "      <td>september</td>\n",
       "      <td>G</td>\n",
       "    </tr>\n",
       "    <tr>\n",
       "      <th>27</th>\n",
       "      <td>41</td>\n",
       "      <td>may</td>\n",
       "      <td>B</td>\n",
       "    </tr>\n",
       "    <tr>\n",
       "      <th>28</th>\n",
       "      <td>35</td>\n",
       "      <td>july</td>\n",
       "      <td>G</td>\n",
       "    </tr>\n",
       "    <tr>\n",
       "      <th>29</th>\n",
       "      <td>40</td>\n",
       "      <td>august</td>\n",
       "      <td>G</td>\n",
       "    </tr>\n",
       "    <tr>\n",
       "      <th>...</th>\n",
       "      <td>...</td>\n",
       "      <td>...</td>\n",
       "      <td>...</td>\n",
       "    </tr>\n",
       "    <tr>\n",
       "      <th>251</th>\n",
       "      <td>36</td>\n",
       "      <td>august</td>\n",
       "      <td>G</td>\n",
       "    </tr>\n",
       "    <tr>\n",
       "      <th>252</th>\n",
       "      <td>31</td>\n",
       "      <td>december</td>\n",
       "      <td>B</td>\n",
       "    </tr>\n",
       "    <tr>\n",
       "      <th>253</th>\n",
       "      <td>20</td>\n",
       "      <td>august</td>\n",
       "      <td>B</td>\n",
       "    </tr>\n",
       "    <tr>\n",
       "      <th>254</th>\n",
       "      <td>18</td>\n",
       "      <td>september</td>\n",
       "      <td>B</td>\n",
       "    </tr>\n",
       "    <tr>\n",
       "      <th>255</th>\n",
       "      <td>26</td>\n",
       "      <td>may</td>\n",
       "      <td>G</td>\n",
       "    </tr>\n",
       "    <tr>\n",
       "      <th>256</th>\n",
       "      <td>24</td>\n",
       "      <td>april</td>\n",
       "      <td>B</td>\n",
       "    </tr>\n",
       "    <tr>\n",
       "      <th>257</th>\n",
       "      <td>25</td>\n",
       "      <td>october</td>\n",
       "      <td>B</td>\n",
       "    </tr>\n",
       "    <tr>\n",
       "      <th>258</th>\n",
       "      <td>30</td>\n",
       "      <td>november</td>\n",
       "      <td>B</td>\n",
       "    </tr>\n",
       "    <tr>\n",
       "      <th>259</th>\n",
       "      <td>40</td>\n",
       "      <td>october</td>\n",
       "      <td>G</td>\n",
       "    </tr>\n",
       "    <tr>\n",
       "      <th>260</th>\n",
       "      <td>34</td>\n",
       "      <td>april</td>\n",
       "      <td>G</td>\n",
       "    </tr>\n",
       "    <tr>\n",
       "      <th>261</th>\n",
       "      <td>42</td>\n",
       "      <td>october</td>\n",
       "      <td>G</td>\n",
       "    </tr>\n",
       "    <tr>\n",
       "      <th>262</th>\n",
       "      <td>29</td>\n",
       "      <td>january</td>\n",
       "      <td>G</td>\n",
       "    </tr>\n",
       "    <tr>\n",
       "      <th>263</th>\n",
       "      <td>27</td>\n",
       "      <td>june</td>\n",
       "      <td>G</td>\n",
       "    </tr>\n",
       "    <tr>\n",
       "      <th>264</th>\n",
       "      <td>32</td>\n",
       "      <td>april</td>\n",
       "      <td>G</td>\n",
       "    </tr>\n",
       "    <tr>\n",
       "      <th>265</th>\n",
       "      <td>43</td>\n",
       "      <td>january</td>\n",
       "      <td>B</td>\n",
       "    </tr>\n",
       "    <tr>\n",
       "      <th>266</th>\n",
       "      <td>24</td>\n",
       "      <td>july</td>\n",
       "      <td>B</td>\n",
       "    </tr>\n",
       "    <tr>\n",
       "      <th>267</th>\n",
       "      <td>45</td>\n",
       "      <td>december</td>\n",
       "      <td>B</td>\n",
       "    </tr>\n",
       "    <tr>\n",
       "      <th>268</th>\n",
       "      <td>33</td>\n",
       "      <td>may</td>\n",
       "      <td>G</td>\n",
       "    </tr>\n",
       "    <tr>\n",
       "      <th>269</th>\n",
       "      <td>41</td>\n",
       "      <td>june</td>\n",
       "      <td>G</td>\n",
       "    </tr>\n",
       "    <tr>\n",
       "      <th>270</th>\n",
       "      <td>18</td>\n",
       "      <td>march</td>\n",
       "      <td>G</td>\n",
       "    </tr>\n",
       "    <tr>\n",
       "      <th>271</th>\n",
       "      <td>27</td>\n",
       "      <td>july</td>\n",
       "      <td>B</td>\n",
       "    </tr>\n",
       "    <tr>\n",
       "      <th>272</th>\n",
       "      <td>25</td>\n",
       "      <td>march</td>\n",
       "      <td>B</td>\n",
       "    </tr>\n",
       "    <tr>\n",
       "      <th>273</th>\n",
       "      <td>26</td>\n",
       "      <td>august</td>\n",
       "      <td>B</td>\n",
       "    </tr>\n",
       "    <tr>\n",
       "      <th>274</th>\n",
       "      <td>32</td>\n",
       "      <td>june</td>\n",
       "      <td>G</td>\n",
       "    </tr>\n",
       "    <tr>\n",
       "      <th>275</th>\n",
       "      <td>22</td>\n",
       "      <td>september</td>\n",
       "      <td>G</td>\n",
       "    </tr>\n",
       "    <tr>\n",
       "      <th>276</th>\n",
       "      <td>24</td>\n",
       "      <td>january</td>\n",
       "      <td>B</td>\n",
       "    </tr>\n",
       "    <tr>\n",
       "      <th>277</th>\n",
       "      <td>33</td>\n",
       "      <td>july</td>\n",
       "      <td>G</td>\n",
       "    </tr>\n",
       "    <tr>\n",
       "      <th>278</th>\n",
       "      <td>27</td>\n",
       "      <td>december</td>\n",
       "      <td>B</td>\n",
       "    </tr>\n",
       "    <tr>\n",
       "      <th>279</th>\n",
       "      <td>23</td>\n",
       "      <td>march</td>\n",
       "      <td>G</td>\n",
       "    </tr>\n",
       "    <tr>\n",
       "      <th>280</th>\n",
       "      <td>25</td>\n",
       "      <td>june</td>\n",
       "      <td>B</td>\n",
       "    </tr>\n",
       "  </tbody>\n",
       "</table>\n",
       "<p>281 rows × 3 columns</p>\n",
       "</div>"
      ],
      "text/plain": [
       "     age      month output\n",
       "0     22    january      G\n",
       "1     26       july      G\n",
       "2     45       july      B\n",
       "3     24        may      G\n",
       "4     42   november      B\n",
       "5     24      march      B\n",
       "6     35   november      B\n",
       "7     23      april      B\n",
       "8     22     august      B\n",
       "9     40   december      G\n",
       "10    27  september      B\n",
       "11    40    january      G\n",
       "12    39      april      B\n",
       "13    37      march      B\n",
       "14    32     august      G\n",
       "15    23   november      B\n",
       "16    25  september      B\n",
       "17    42        may      G\n",
       "18    34    january      B\n",
       "19    34       july      G\n",
       "20    40      april      B\n",
       "21    21        may      G\n",
       "22    36       june      G\n",
       "23    45      april      G\n",
       "24    26  september      G\n",
       "25    28    october      B\n",
       "26    37  september      G\n",
       "27    41        may      B\n",
       "28    35       july      G\n",
       "29    40     august      G\n",
       "..   ...        ...    ...\n",
       "251   36     august      G\n",
       "252   31   december      B\n",
       "253   20     august      B\n",
       "254   18  september      B\n",
       "255   26        may      G\n",
       "256   24      april      B\n",
       "257   25    october      B\n",
       "258   30   november      B\n",
       "259   40    october      G\n",
       "260   34      april      G\n",
       "261   42    october      G\n",
       "262   29    january      G\n",
       "263   27       june      G\n",
       "264   32      april      G\n",
       "265   43    january      B\n",
       "266   24       july      B\n",
       "267   45   december      B\n",
       "268   33        may      G\n",
       "269   41       june      G\n",
       "270   18      march      G\n",
       "271   27       july      B\n",
       "272   25      march      B\n",
       "273   26     august      B\n",
       "274   32       june      G\n",
       "275   22  september      G\n",
       "276   24    january      B\n",
       "277   33       july      G\n",
       "278   27   december      B\n",
       "279   23      march      G\n",
       "280   25       june      B\n",
       "\n",
       "[281 rows x 3 columns]"
      ]
     },
     "execution_count": 66,
     "metadata": {},
     "output_type": "execute_result"
    }
   ],
   "source": [
    "data"
   ]
  },
  {
   "cell_type": "markdown",
   "metadata": {},
   "source": [
    "# Slicing of data"
   ]
  },
  {
   "cell_type": "code",
   "execution_count": 93,
   "metadata": {},
   "outputs": [],
   "source": [
    "x_data = data.iloc[:,:-1].values\n",
    "y_data = data.iloc[:,-1].values"
   ]
  },
  {
   "cell_type": "code",
   "execution_count": 94,
   "metadata": {},
   "outputs": [
    {
     "data": {
      "text/plain": [
       "array([[22, 'january'],\n",
       "       [26, 'july'],\n",
       "       [45, 'july'],\n",
       "       [24, 'may'],\n",
       "       [42, 'november'],\n",
       "       [24, 'march'],\n",
       "       [35, 'november'],\n",
       "       [23, 'april'],\n",
       "       [22, 'august'],\n",
       "       [40, 'december'],\n",
       "       [27, 'september'],\n",
       "       [40, 'january'],\n",
       "       [39, 'april'],\n",
       "       [37, 'march'],\n",
       "       [32, 'august'],\n",
       "       [23, 'november'],\n",
       "       [25, 'september'],\n",
       "       [42, 'may'],\n",
       "       [34, 'january'],\n",
       "       [34, 'july'],\n",
       "       [40, 'april'],\n",
       "       [21, 'may'],\n",
       "       [36, 'june'],\n",
       "       [45, 'april'],\n",
       "       [26, 'september'],\n",
       "       [28, 'october'],\n",
       "       [37, 'september'],\n",
       "       [41, 'may'],\n",
       "       [35, 'july'],\n",
       "       [40, 'august'],\n",
       "       [28, 'july'],\n",
       "       [21, 'january'],\n",
       "       [41, 'october'],\n",
       "       [40, 'november'],\n",
       "       [30, 'march'],\n",
       "       [27, 'november'],\n",
       "       [43, 'november'],\n",
       "       [36, 'november'],\n",
       "       [35, 'december'],\n",
       "       [43, 'april'],\n",
       "       [35, 'october'],\n",
       "       [21, 'september'],\n",
       "       [43, 'february'],\n",
       "       [21, 'july'],\n",
       "       [45, 'october'],\n",
       "       [22, 'october'],\n",
       "       [45, 'may'],\n",
       "       [24, 'november'],\n",
       "       [19, 'september'],\n",
       "       [24, 'october'],\n",
       "       [21, 'november'],\n",
       "       [18, 'december'],\n",
       "       [19, 'march'],\n",
       "       [26, 'october'],\n",
       "       [39, 'september'],\n",
       "       [35, 'february'],\n",
       "       [23, 'january'],\n",
       "       [33, 'october'],\n",
       "       [28, 'june'],\n",
       "       [41, 'january'],\n",
       "       [39, 'july'],\n",
       "       [26, 'january'],\n",
       "       [42, 'march'],\n",
       "       [30, 'december'],\n",
       "       [36, 'september'],\n",
       "       [33, 'january'],\n",
       "       [30, 'april'],\n",
       "       [29, 'december'],\n",
       "       [30, 'september'],\n",
       "       [43, 'august'],\n",
       "       [42, 'february'],\n",
       "       [23, 'august'],\n",
       "       [25, 'january'],\n",
       "       [39, 'december'],\n",
       "       [29, 'october'],\n",
       "       [31, 'january'],\n",
       "       [36, 'february'],\n",
       "       [44, 'december'],\n",
       "       [35, 'march'],\n",
       "       [20, 'july'],\n",
       "       [44, 'september'],\n",
       "       [36, 'march'],\n",
       "       [29, 'february'],\n",
       "       [23, 'october'],\n",
       "       [22, 'november'],\n",
       "       [33, 'april'],\n",
       "       [20, 'september'],\n",
       "       [21, 'december'],\n",
       "       [24, 'february'],\n",
       "       [28, 'january'],\n",
       "       [28, 'november'],\n",
       "       [39, 'march'],\n",
       "       [19, 'january'],\n",
       "       [27, 'october'],\n",
       "       [37, 'august'],\n",
       "       [19, 'april'],\n",
       "       [27, 'may'],\n",
       "       [25, 'february'],\n",
       "       [32, 'january'],\n",
       "       [18, 'february'],\n",
       "       [23, 'may'],\n",
       "       [40, 'july'],\n",
       "       [30, 'january'],\n",
       "       [25, 'november'],\n",
       "       [23, 'july'],\n",
       "       [25, 'august'],\n",
       "       [32, 'october'],\n",
       "       [20, 'march'],\n",
       "       [25, 'may'],\n",
       "       [33, 'june'],\n",
       "       [34, 'march'],\n",
       "       [38, 'april'],\n",
       "       [40, 'june'],\n",
       "       [19, 'october'],\n",
       "       [31, 'july'],\n",
       "       [30, 'june'],\n",
       "       [18, 'july'],\n",
       "       [40, 'march'],\n",
       "       [31, 'september'],\n",
       "       [19, 'november'],\n",
       "       [19, 'july'],\n",
       "       [44, 'march'],\n",
       "       [35, 'may'],\n",
       "       [29, 'september'],\n",
       "       [28, 'february'],\n",
       "       [38, 'october'],\n",
       "       [31, 'june'],\n",
       "       [37, 'december'],\n",
       "       [18, 'april'],\n",
       "       [18, 'october'],\n",
       "       [44, 'october'],\n",
       "       [34, 'december'],\n",
       "       [33, 'february'],\n",
       "       [44, 'april'],\n",
       "       [35, 'june'],\n",
       "       [44, 'august'],\n",
       "       [43, 'september'],\n",
       "       [38, 'january'],\n",
       "       [39, 'august'],\n",
       "       [37, 'may'],\n",
       "       [30, 'august'],\n",
       "       [27, 'january'],\n",
       "       [38, 'february'],\n",
       "       [18, 'november'],\n",
       "       [39, 'january'],\n",
       "       [24, 'august'],\n",
       "       [19, 'may'],\n",
       "       [29, 'july'],\n",
       "       [44, 'july'],\n",
       "       [32, 'february'],\n",
       "       [27, 'april'],\n",
       "       [39, 'february'],\n",
       "       [42, 'december'],\n",
       "       [41, 'september'],\n",
       "       [42, 'january'],\n",
       "       [29, 'june'],\n",
       "       [21, 'april'],\n",
       "       [41, 'march'],\n",
       "       [43, 'march'],\n",
       "       [29, 'april'],\n",
       "       [30, 'october'],\n",
       "       [22, 'april'],\n",
       "       [31, 'august'],\n",
       "       [44, 'may'],\n",
       "       [28, 'september'],\n",
       "       [24, 'june'],\n",
       "       [22, 'july'],\n",
       "       [38, 'december'],\n",
       "       [39, 'june'],\n",
       "       [19, 'august'],\n",
       "       [26, 'april'],\n",
       "       [34, 'june'],\n",
       "       [20, 'may'],\n",
       "       [29, 'may'],\n",
       "       [28, 'may'],\n",
       "       [32, 'march'],\n",
       "       [41, 'april'],\n",
       "       [38, 'july'],\n",
       "       [36, 'may'],\n",
       "       [22, 'february'],\n",
       "       [27, 'february'],\n",
       "       [21, 'august'],\n",
       "       [19, 'december'],\n",
       "       [24, 'december'],\n",
       "       [28, 'december'],\n",
       "       [42, 'june'],\n",
       "       [38, 'march'],\n",
       "       [22, 'march'],\n",
       "       [27, 'march'],\n",
       "       [34, 'august'],\n",
       "       [21, 'march'],\n",
       "       [18, 'may'],\n",
       "       [42, 'april'],\n",
       "       [42, 'july'],\n",
       "       [19, 'june'],\n",
       "       [34, 'november'],\n",
       "       [18, 'june'],\n",
       "       [21, 'october'],\n",
       "       [20, 'december'],\n",
       "       [45, 'march'],\n",
       "       [41, 'july'],\n",
       "       [33, 'november'],\n",
       "       [21, 'february'],\n",
       "       [36, 'april'],\n",
       "       [23, 'february'],\n",
       "       [28, 'march'],\n",
       "       [28, 'april'],\n",
       "       [43, 'july'],\n",
       "       [31, 'april'],\n",
       "       [36, 'december'],\n",
       "       [40, 'may'],\n",
       "       [45, 'september'],\n",
       "       [20, 'february'],\n",
       "       [38, 'november'],\n",
       "       [26, 'june'],\n",
       "       [41, 'august'],\n",
       "       [44, 'november'],\n",
       "       [35, 'august'],\n",
       "       [22, 'december'],\n",
       "       [30, 'may'],\n",
       "       [23, 'june'],\n",
       "       [39, 'november'],\n",
       "       [37, 'june'],\n",
       "       [20, 'november'],\n",
       "       [43, 'october'],\n",
       "       [33, 'march'],\n",
       "       [20, 'april'],\n",
       "       [45, 'january'],\n",
       "       [31, 'march'],\n",
       "       [43, 'june'],\n",
       "       [32, 'september'],\n",
       "       [26, 'december'],\n",
       "       [41, 'december'],\n",
       "       [34, 'february'],\n",
       "       [32, 'july'],\n",
       "       [45, 'august'],\n",
       "       [45, 'june'],\n",
       "       [20, 'october'],\n",
       "       [23, 'september'],\n",
       "       [26, 'march'],\n",
       "       [20, 'january'],\n",
       "       [34, 'september'],\n",
       "       [38, 'june'],\n",
       "       [44, 'january'],\n",
       "       [23, 'december'],\n",
       "       [29, 'march'],\n",
       "       [18, 'january'],\n",
       "       [25, 'april'],\n",
       "       [20, 'june'],\n",
       "       [44, 'june'],\n",
       "       [43, 'december'],\n",
       "       [36, 'august'],\n",
       "       [31, 'december'],\n",
       "       [20, 'august'],\n",
       "       [18, 'september'],\n",
       "       [26, 'may'],\n",
       "       [24, 'april'],\n",
       "       [25, 'october'],\n",
       "       [30, 'november'],\n",
       "       [40, 'october'],\n",
       "       [34, 'april'],\n",
       "       [42, 'october'],\n",
       "       [29, 'january'],\n",
       "       [27, 'june'],\n",
       "       [32, 'april'],\n",
       "       [43, 'january'],\n",
       "       [24, 'july'],\n",
       "       [45, 'december'],\n",
       "       [33, 'may'],\n",
       "       [41, 'june'],\n",
       "       [18, 'march'],\n",
       "       [27, 'july'],\n",
       "       [25, 'march'],\n",
       "       [26, 'august'],\n",
       "       [32, 'june'],\n",
       "       [22, 'september'],\n",
       "       [24, 'january'],\n",
       "       [33, 'july'],\n",
       "       [27, 'december'],\n",
       "       [23, 'march'],\n",
       "       [25, 'june']], dtype=object)"
      ]
     },
     "execution_count": 94,
     "metadata": {},
     "output_type": "execute_result"
    }
   ],
   "source": [
    "x_data"
   ]
  },
  {
   "cell_type": "code",
   "execution_count": 95,
   "metadata": {},
   "outputs": [
    {
     "data": {
      "text/plain": [
       "array(['G', 'G', 'B', 'G', 'B', 'B', 'B', 'B', 'B', 'G', 'B', 'G', 'B',\n",
       "       'B', 'G', 'B', 'B', 'G', 'B', 'G', 'B', 'G', 'G', 'G', 'G', 'B',\n",
       "       'G', 'B', 'G', 'G', 'B', 'B', 'B', 'B', 'G', 'G', 'B', 'B', 'B',\n",
       "       'G', 'G', 'G', 'G', 'G', 'G', 'G', 'G', 'G', 'B', 'G', 'G', 'B',\n",
       "       'B', 'G', 'G', 'B', 'B', 'G', 'G', 'B', 'G', 'B', 'G', 'B', 'B',\n",
       "       'G', 'G', 'G', 'G', 'G', 'B', 'G', 'G', 'G', 'G', 'B', 'B', 'G',\n",
       "       'G', 'B', 'G', 'B', 'B', 'B', 'G', 'B', 'B', 'G', 'G', 'B', 'G',\n",
       "       'B', 'B', 'B', 'B', 'G', 'G', 'B', 'B', 'B', 'B', 'B', 'B', 'B',\n",
       "       'B', 'B', 'G', 'G', 'G', 'G', 'B', 'B', 'B', 'B', 'G', 'G', 'B',\n",
       "       'G', 'G', 'G', 'B', 'G', 'G', 'B', 'G', 'G', 'G', 'B', 'B', 'B',\n",
       "       'B', 'B', 'B', 'B', 'G', 'B', 'B', 'G', 'B', 'G', 'G', 'G', 'B',\n",
       "       'B', 'B', 'G', 'G', 'B', 'G', 'G', 'B', 'G', 'G', 'G', 'G', 'B',\n",
       "       'G', 'B', 'B', 'G', 'G', 'G', 'G', 'B', 'B', 'B', 'G', 'G', 'G',\n",
       "       'B', 'G', 'G', 'B', 'B', 'G', 'B', 'G', 'B', 'B', 'B', 'B', 'G',\n",
       "       'G', 'G', 'G', 'B', 'G', 'B', 'G', 'G', 'G', 'B', 'B', 'G', 'B',\n",
       "       'B', 'B', 'G', 'B', 'B', 'B', 'G', 'G', 'G', 'B', 'B', 'G', 'B',\n",
       "       'G', 'B', 'G', 'B', 'B', 'B', 'B', 'B', 'G', 'B', 'G', 'G', 'G',\n",
       "       'G', 'B', 'B', 'B', 'B', 'B', 'G', 'B', 'G', 'G', 'G', 'B', 'G',\n",
       "       'G', 'G', 'G', 'G', 'B', 'B', 'G', 'G', 'G', 'B', 'G', 'G', 'G',\n",
       "       'G', 'B', 'B', 'B', 'G', 'B', 'B', 'B', 'G', 'B', 'B', 'B', 'G',\n",
       "       'G', 'G', 'G', 'G', 'G', 'B', 'B', 'B', 'G', 'G', 'G', 'B', 'B',\n",
       "       'B', 'G', 'G', 'B', 'G', 'B', 'G', 'B'], dtype=object)"
      ]
     },
     "execution_count": 95,
     "metadata": {},
     "output_type": "execute_result"
    }
   ],
   "source": [
    "y_data"
   ]
  },
  {
   "cell_type": "markdown",
   "metadata": {},
   "source": [
    "# Label ENcoding"
   ]
  },
  {
   "cell_type": "code",
   "execution_count": 96,
   "metadata": {},
   "outputs": [
    {
     "data": {
      "text/plain": [
       "array([[22, 4],\n",
       "       [26, 5],\n",
       "       [45, 5],\n",
       "       [24, 8],\n",
       "       [42, 9],\n",
       "       [24, 7],\n",
       "       [35, 9],\n",
       "       [23, 0],\n",
       "       [22, 1],\n",
       "       [40, 2],\n",
       "       [27, 11],\n",
       "       [40, 4],\n",
       "       [39, 0],\n",
       "       [37, 7],\n",
       "       [32, 1],\n",
       "       [23, 9],\n",
       "       [25, 11],\n",
       "       [42, 8],\n",
       "       [34, 4],\n",
       "       [34, 5],\n",
       "       [40, 0],\n",
       "       [21, 8],\n",
       "       [36, 6],\n",
       "       [45, 0],\n",
       "       [26, 11],\n",
       "       [28, 10],\n",
       "       [37, 11],\n",
       "       [41, 8],\n",
       "       [35, 5],\n",
       "       [40, 1],\n",
       "       [28, 5],\n",
       "       [21, 4],\n",
       "       [41, 10],\n",
       "       [40, 9],\n",
       "       [30, 7],\n",
       "       [27, 9],\n",
       "       [43, 9],\n",
       "       [36, 9],\n",
       "       [35, 2],\n",
       "       [43, 0],\n",
       "       [35, 10],\n",
       "       [21, 11],\n",
       "       [43, 3],\n",
       "       [21, 5],\n",
       "       [45, 10],\n",
       "       [22, 10],\n",
       "       [45, 8],\n",
       "       [24, 9],\n",
       "       [19, 11],\n",
       "       [24, 10],\n",
       "       [21, 9],\n",
       "       [18, 2],\n",
       "       [19, 7],\n",
       "       [26, 10],\n",
       "       [39, 11],\n",
       "       [35, 3],\n",
       "       [23, 4],\n",
       "       [33, 10],\n",
       "       [28, 6],\n",
       "       [41, 4],\n",
       "       [39, 5],\n",
       "       [26, 4],\n",
       "       [42, 7],\n",
       "       [30, 2],\n",
       "       [36, 11],\n",
       "       [33, 4],\n",
       "       [30, 0],\n",
       "       [29, 2],\n",
       "       [30, 11],\n",
       "       [43, 1],\n",
       "       [42, 3],\n",
       "       [23, 1],\n",
       "       [25, 4],\n",
       "       [39, 2],\n",
       "       [29, 10],\n",
       "       [31, 4],\n",
       "       [36, 3],\n",
       "       [44, 2],\n",
       "       [35, 7],\n",
       "       [20, 5],\n",
       "       [44, 11],\n",
       "       [36, 7],\n",
       "       [29, 3],\n",
       "       [23, 10],\n",
       "       [22, 9],\n",
       "       [33, 0],\n",
       "       [20, 11],\n",
       "       [21, 2],\n",
       "       [24, 3],\n",
       "       [28, 4],\n",
       "       [28, 9],\n",
       "       [39, 7],\n",
       "       [19, 4],\n",
       "       [27, 10],\n",
       "       [37, 1],\n",
       "       [19, 0],\n",
       "       [27, 8],\n",
       "       [25, 3],\n",
       "       [32, 4],\n",
       "       [18, 3],\n",
       "       [23, 8],\n",
       "       [40, 5],\n",
       "       [30, 4],\n",
       "       [25, 9],\n",
       "       [23, 5],\n",
       "       [25, 1],\n",
       "       [32, 10],\n",
       "       [20, 7],\n",
       "       [25, 8],\n",
       "       [33, 6],\n",
       "       [34, 7],\n",
       "       [38, 0],\n",
       "       [40, 6],\n",
       "       [19, 10],\n",
       "       [31, 5],\n",
       "       [30, 6],\n",
       "       [18, 5],\n",
       "       [40, 7],\n",
       "       [31, 11],\n",
       "       [19, 9],\n",
       "       [19, 5],\n",
       "       [44, 7],\n",
       "       [35, 8],\n",
       "       [29, 11],\n",
       "       [28, 3],\n",
       "       [38, 10],\n",
       "       [31, 6],\n",
       "       [37, 2],\n",
       "       [18, 0],\n",
       "       [18, 10],\n",
       "       [44, 10],\n",
       "       [34, 2],\n",
       "       [33, 3],\n",
       "       [44, 0],\n",
       "       [35, 6],\n",
       "       [44, 1],\n",
       "       [43, 11],\n",
       "       [38, 4],\n",
       "       [39, 1],\n",
       "       [37, 8],\n",
       "       [30, 1],\n",
       "       [27, 4],\n",
       "       [38, 3],\n",
       "       [18, 9],\n",
       "       [39, 4],\n",
       "       [24, 1],\n",
       "       [19, 8],\n",
       "       [29, 5],\n",
       "       [44, 5],\n",
       "       [32, 3],\n",
       "       [27, 0],\n",
       "       [39, 3],\n",
       "       [42, 2],\n",
       "       [41, 11],\n",
       "       [42, 4],\n",
       "       [29, 6],\n",
       "       [21, 0],\n",
       "       [41, 7],\n",
       "       [43, 7],\n",
       "       [29, 0],\n",
       "       [30, 10],\n",
       "       [22, 0],\n",
       "       [31, 1],\n",
       "       [44, 8],\n",
       "       [28, 11],\n",
       "       [24, 6],\n",
       "       [22, 5],\n",
       "       [38, 2],\n",
       "       [39, 6],\n",
       "       [19, 1],\n",
       "       [26, 0],\n",
       "       [34, 6],\n",
       "       [20, 8],\n",
       "       [29, 8],\n",
       "       [28, 8],\n",
       "       [32, 7],\n",
       "       [41, 0],\n",
       "       [38, 5],\n",
       "       [36, 8],\n",
       "       [22, 3],\n",
       "       [27, 3],\n",
       "       [21, 1],\n",
       "       [19, 2],\n",
       "       [24, 2],\n",
       "       [28, 2],\n",
       "       [42, 6],\n",
       "       [38, 7],\n",
       "       [22, 7],\n",
       "       [27, 7],\n",
       "       [34, 1],\n",
       "       [21, 7],\n",
       "       [18, 8],\n",
       "       [42, 0],\n",
       "       [42, 5],\n",
       "       [19, 6],\n",
       "       [34, 9],\n",
       "       [18, 6],\n",
       "       [21, 10],\n",
       "       [20, 2],\n",
       "       [45, 7],\n",
       "       [41, 5],\n",
       "       [33, 9],\n",
       "       [21, 3],\n",
       "       [36, 0],\n",
       "       [23, 3],\n",
       "       [28, 7],\n",
       "       [28, 0],\n",
       "       [43, 5],\n",
       "       [31, 0],\n",
       "       [36, 2],\n",
       "       [40, 8],\n",
       "       [45, 11],\n",
       "       [20, 3],\n",
       "       [38, 9],\n",
       "       [26, 6],\n",
       "       [41, 1],\n",
       "       [44, 9],\n",
       "       [35, 1],\n",
       "       [22, 2],\n",
       "       [30, 8],\n",
       "       [23, 6],\n",
       "       [39, 9],\n",
       "       [37, 6],\n",
       "       [20, 9],\n",
       "       [43, 10],\n",
       "       [33, 7],\n",
       "       [20, 0],\n",
       "       [45, 4],\n",
       "       [31, 7],\n",
       "       [43, 6],\n",
       "       [32, 11],\n",
       "       [26, 2],\n",
       "       [41, 2],\n",
       "       [34, 3],\n",
       "       [32, 5],\n",
       "       [45, 1],\n",
       "       [45, 6],\n",
       "       [20, 10],\n",
       "       [23, 11],\n",
       "       [26, 7],\n",
       "       [20, 4],\n",
       "       [34, 11],\n",
       "       [38, 6],\n",
       "       [44, 4],\n",
       "       [23, 2],\n",
       "       [29, 7],\n",
       "       [18, 4],\n",
       "       [25, 0],\n",
       "       [20, 6],\n",
       "       [44, 6],\n",
       "       [43, 2],\n",
       "       [36, 1],\n",
       "       [31, 2],\n",
       "       [20, 1],\n",
       "       [18, 11],\n",
       "       [26, 8],\n",
       "       [24, 0],\n",
       "       [25, 10],\n",
       "       [30, 9],\n",
       "       [40, 10],\n",
       "       [34, 0],\n",
       "       [42, 10],\n",
       "       [29, 4],\n",
       "       [27, 6],\n",
       "       [32, 0],\n",
       "       [43, 4],\n",
       "       [24, 5],\n",
       "       [45, 2],\n",
       "       [33, 8],\n",
       "       [41, 6],\n",
       "       [18, 7],\n",
       "       [27, 5],\n",
       "       [25, 7],\n",
       "       [26, 1],\n",
       "       [32, 6],\n",
       "       [22, 11],\n",
       "       [24, 4],\n",
       "       [33, 5],\n",
       "       [27, 2],\n",
       "       [23, 7],\n",
       "       [25, 6]], dtype=object)"
      ]
     },
     "execution_count": 96,
     "metadata": {},
     "output_type": "execute_result"
    }
   ],
   "source": [
    "from sklearn.preprocessing import LabelEncoder\n",
    "lb = LabelEncoder()\n",
    "x_data[:,1] = lb.fit_transform(x_data[:,1])\n",
    "x_data"
   ]
  },
  {
   "cell_type": "code",
   "execution_count": 97,
   "metadata": {},
   "outputs": [
    {
     "data": {
      "text/plain": [
       "array([1, 1, 0, 1, 0, 0, 0, 0, 0, 1, 0, 1, 0, 0, 1, 0, 0, 1, 0, 1, 0, 1, 1,\n",
       "       1, 1, 0, 1, 0, 1, 1, 0, 0, 0, 0, 1, 1, 0, 0, 0, 1, 1, 1, 1, 1, 1, 1,\n",
       "       1, 1, 0, 1, 1, 0, 0, 1, 1, 0, 0, 1, 1, 0, 1, 0, 1, 0, 0, 1, 1, 1, 1,\n",
       "       1, 0, 1, 1, 1, 1, 0, 0, 1, 1, 0, 1, 0, 0, 0, 1, 0, 0, 1, 1, 0, 1, 0,\n",
       "       0, 0, 0, 1, 1, 0, 0, 0, 0, 0, 0, 0, 0, 0, 1, 1, 1, 1, 0, 0, 0, 0, 1,\n",
       "       1, 0, 1, 1, 1, 0, 1, 1, 0, 1, 1, 1, 0, 0, 0, 0, 0, 0, 0, 1, 0, 0, 1,\n",
       "       0, 1, 1, 1, 0, 0, 0, 1, 1, 0, 1, 1, 0, 1, 1, 1, 1, 0, 1, 0, 0, 1, 1,\n",
       "       1, 1, 0, 0, 0, 1, 1, 1, 0, 1, 1, 0, 0, 1, 0, 1, 0, 0, 0, 0, 1, 1, 1,\n",
       "       1, 0, 1, 0, 1, 1, 1, 0, 0, 1, 0, 0, 0, 1, 0, 0, 0, 1, 1, 1, 0, 0, 1,\n",
       "       0, 1, 0, 1, 0, 0, 0, 0, 0, 1, 0, 1, 1, 1, 1, 0, 0, 0, 0, 0, 1, 0, 1,\n",
       "       1, 1, 0, 1, 1, 1, 1, 1, 0, 0, 1, 1, 1, 0, 1, 1, 1, 1, 0, 0, 0, 1, 0,\n",
       "       0, 0, 1, 0, 0, 0, 1, 1, 1, 1, 1, 1, 0, 0, 0, 1, 1, 1, 0, 0, 0, 1, 1,\n",
       "       0, 1, 0, 1, 0])"
      ]
     },
     "execution_count": 97,
     "metadata": {},
     "output_type": "execute_result"
    }
   ],
   "source": [
    "y_data= lb.fit_transform(y_data)\n",
    "y_data"
   ]
  },
  {
   "cell_type": "markdown",
   "metadata": {},
   "source": [
    "# One hot encoding"
   ]
  },
  {
   "cell_type": "code",
   "execution_count": 98,
   "metadata": {},
   "outputs": [],
   "source": [
    "from sklearn.preprocessing import OneHotEncoder\n",
    "oh = OneHotEncoder(categorical_features=[1])"
   ]
  },
  {
   "cell_type": "code",
   "execution_count": 99,
   "metadata": {},
   "outputs": [],
   "source": [
    "x_data=oh.fit_transform(x_data).toarray()"
   ]
  },
  {
   "cell_type": "code",
   "execution_count": 100,
   "metadata": {},
   "outputs": [],
   "source": [
    "x_data = x_data[:,1:]"
   ]
  },
  {
   "cell_type": "code",
   "execution_count": 101,
   "metadata": {},
   "outputs": [
    {
     "data": {
      "text/plain": [
       "array([[  0.,   0.,   0., ...,   0.,   0.,  22.],\n",
       "       [  0.,   0.,   0., ...,   0.,   0.,  26.],\n",
       "       [  0.,   0.,   0., ...,   0.,   0.,  45.],\n",
       "       ..., \n",
       "       [  0.,   1.,   0., ...,   0.,   0.,  27.],\n",
       "       [  0.,   0.,   0., ...,   0.,   0.,  23.],\n",
       "       [  0.,   0.,   0., ...,   0.,   0.,  25.]])"
      ]
     },
     "execution_count": 101,
     "metadata": {},
     "output_type": "execute_result"
    }
   ],
   "source": [
    "x_data"
   ]
  },
  {
   "cell_type": "markdown",
   "metadata": {},
   "source": [
    "# Train,test,split"
   ]
  },
  {
   "cell_type": "code",
   "execution_count": 127,
   "metadata": {},
   "outputs": [],
   "source": [
    "from sklearn.model_selection import train_test_split\n",
    "x_train,x_test,y_train,y_test = train_test_split(x_data,y_data,test_size = 0.1 ,random_state = 0)"
   ]
  },
  {
   "cell_type": "code",
   "execution_count": 128,
   "metadata": {},
   "outputs": [
    {
     "data": {
      "text/plain": [
       "array([[  1.,   0.,   0., ...,   0.,   0.,  22.],\n",
       "       [  0.,   0.,   0., ...,   0.,   0.,  24.],\n",
       "       [  0.,   0.,   0., ...,   1.,   0.,  32.],\n",
       "       ..., \n",
       "       [  0.,   0.,   0., ...,   0.,   0.,  40.],\n",
       "       [  0.,   0.,   0., ...,   0.,   0.,  24.],\n",
       "       [  0.,   0.,   0., ...,   0.,   0.,  20.]])"
      ]
     },
     "execution_count": 128,
     "metadata": {},
     "output_type": "execute_result"
    }
   ],
   "source": [
    "x_train"
   ]
  },
  {
   "cell_type": "code",
   "execution_count": 129,
   "metadata": {},
   "outputs": [
    {
     "data": {
      "text/plain": [
       "array([[  0.,   0.,   0.,   1.,   0.,   0.,   0.,   0.,   0.,   0.,   0.,\n",
       "         28.],\n",
       "       [  0.,   0.,   0.,   0.,   0.,   0.,   0.,   0.,   0.,   0.,   0.,\n",
       "         39.],\n",
       "       [  0.,   0.,   1.,   0.,   0.,   0.,   0.,   0.,   0.,   0.,   0.,\n",
       "         28.],\n",
       "       [  0.,   0.,   0.,   0.,   0.,   0.,   0.,   0.,   1.,   0.,   0.,\n",
       "         39.],\n",
       "       [  0.,   0.,   0.,   0.,   0.,   0.,   0.,   0.,   0.,   0.,   1.,\n",
       "         36.],\n",
       "       [  0.,   0.,   0.,   0.,   0.,   0.,   0.,   1.,   0.,   0.,   0.,\n",
       "         30.],\n",
       "       [  0.,   0.,   0.,   0.,   0.,   0.,   0.,   0.,   1.,   0.,   0.,\n",
       "         33.],\n",
       "       [  0.,   0.,   0.,   0.,   1.,   0.,   0.,   0.,   0.,   0.,   0.,\n",
       "         41.],\n",
       "       [  0.,   0.,   0.,   0.,   1.,   0.,   0.,   0.,   0.,   0.,   0.,\n",
       "         24.],\n",
       "       [  0.,   0.,   1.,   0.,   0.,   0.,   0.,   0.,   0.,   0.,   0.,\n",
       "         36.],\n",
       "       [  0.,   0.,   1.,   0.,   0.,   0.,   0.,   0.,   0.,   0.,   0.,\n",
       "         20.],\n",
       "       [  1.,   0.,   0.,   0.,   0.,   0.,   0.,   0.,   0.,   0.,   0.,\n",
       "         35.],\n",
       "       [  0.,   0.,   0.,   0.,   0.,   1.,   0.,   0.,   0.,   0.,   0.,\n",
       "         20.],\n",
       "       [  0.,   0.,   0.,   0.,   0.,   1.,   0.,   0.,   0.,   0.,   0.,\n",
       "         39.],\n",
       "       [  0.,   0.,   0.,   0.,   0.,   0.,   0.,   0.,   1.,   0.,   0.,\n",
       "         23.],\n",
       "       [  0.,   0.,   0.,   0.,   0.,   0.,   1.,   0.,   0.,   0.,   0.,\n",
       "         41.],\n",
       "       [  0.,   0.,   0.,   1.,   0.,   0.,   0.,   0.,   0.,   0.,   0.,\n",
       "         19.],\n",
       "       [  0.,   0.,   1.,   0.,   0.,   0.,   0.,   0.,   0.,   0.,   0.,\n",
       "         25.],\n",
       "       [  0.,   0.,   0.,   0.,   0.,   1.,   0.,   0.,   0.,   0.,   0.,\n",
       "         36.],\n",
       "       [  0.,   0.,   0.,   0.,   0.,   0.,   1.,   0.,   0.,   0.,   0.,\n",
       "         31.],\n",
       "       [  0.,   1.,   0.,   0.,   0.,   0.,   0.,   0.,   0.,   0.,   0.,\n",
       "         30.],\n",
       "       [  0.,   0.,   0.,   0.,   0.,   0.,   0.,   0.,   0.,   0.,   1.,\n",
       "         41.],\n",
       "       [  0.,   0.,   0.,   0.,   0.,   0.,   0.,   0.,   1.,   0.,   0.,\n",
       "         25.],\n",
       "       [  1.,   0.,   0.,   0.,   0.,   0.,   0.,   0.,   0.,   0.,   0.,\n",
       "         45.],\n",
       "       [  0.,   0.,   0.,   0.,   0.,   0.,   0.,   0.,   0.,   0.,   1.,\n",
       "         32.],\n",
       "       [  0.,   0.,   0.,   1.,   0.,   0.,   0.,   0.,   0.,   0.,   0.,\n",
       "         41.],\n",
       "       [  0.,   0.,   0.,   0.,   0.,   0.,   0.,   0.,   0.,   1.,   0.,\n",
       "         29.],\n",
       "       [  0.,   0.,   0.,   0.,   1.,   0.,   0.,   0.,   0.,   0.,   0.,\n",
       "         22.],\n",
       "       [  0.,   0.,   0.,   0.,   0.,   0.,   1.,   0.,   0.,   0.,   0.,\n",
       "         34.]])"
      ]
     },
     "execution_count": 129,
     "metadata": {},
     "output_type": "execute_result"
    }
   ],
   "source": [
    "x_test"
   ]
  },
  {
   "cell_type": "code",
   "execution_count": 130,
   "metadata": {},
   "outputs": [
    {
     "data": {
      "text/plain": [
       "array([0, 0, 1, 0, 1, 1, 0, 0, 0, 1, 1, 0, 1, 1, 0, 0, 0, 1, 0, 0, 1, 0, 0,\n",
       "       1, 1, 1, 1, 0, 1, 0, 1, 0, 0, 1, 1, 0, 0, 1, 0, 0, 1, 1, 0, 1, 0, 1,\n",
       "       1, 1, 1, 1, 0, 1, 1, 1, 0, 1, 1, 0, 1, 1, 0, 0, 1, 1, 0, 0, 0, 0, 1,\n",
       "       1, 1, 1, 0, 0, 0, 0, 0, 1, 0, 0, 0, 0, 1, 1, 0, 1, 1, 0, 1, 1, 1, 0,\n",
       "       1, 1, 1, 1, 0, 1, 0, 0, 1, 1, 1, 1, 0, 1, 1, 0, 1, 1, 0, 1, 1, 0, 0,\n",
       "       0, 0, 1, 0, 0, 1, 1, 1, 1, 1, 0, 0, 0, 1, 1, 0, 0, 1, 0, 1, 0, 0, 0,\n",
       "       0, 1, 0, 0, 0, 0, 0, 1, 1, 0, 0, 1, 0, 1, 1, 1, 1, 1, 0, 0, 0, 1, 1,\n",
       "       0, 1, 0, 1, 0, 0, 0, 1, 1, 0, 0, 1, 1, 1, 1, 1, 1, 0, 0, 1, 0, 0, 0,\n",
       "       1, 1, 0, 1, 1, 0, 1, 1, 0, 1, 1, 1, 0, 0, 0, 1, 0, 0, 1, 0, 1, 0, 1,\n",
       "       1, 1, 1, 1, 0, 1, 1, 0, 0, 0, 0, 1, 1, 0, 1, 0, 0, 0, 1, 1, 0, 0, 1,\n",
       "       0, 1, 1, 0, 0, 1, 1, 0, 1, 1, 1, 0, 1, 1, 0, 1, 0, 1, 0, 1, 1, 0])"
      ]
     },
     "execution_count": 130,
     "metadata": {},
     "output_type": "execute_result"
    }
   ],
   "source": [
    "y_train"
   ]
  },
  {
   "cell_type": "code",
   "execution_count": 131,
   "metadata": {},
   "outputs": [
    {
     "data": {
      "text/plain": [
       "array([0, 0, 1, 1, 0, 1, 1, 0, 0, 0, 0, 0, 0, 1, 0, 0, 0, 0, 1, 0, 0, 1, 0,\n",
       "       1, 1, 0, 1, 1, 0])"
      ]
     },
     "execution_count": 131,
     "metadata": {},
     "output_type": "execute_result"
    }
   ],
   "source": [
    "y_test"
   ]
  },
  {
   "cell_type": "markdown",
   "metadata": {},
   "source": [
    "#    Pipe lining"
   ]
  },
  {
   "cell_type": "code",
   "execution_count": 132,
   "metadata": {},
   "outputs": [],
   "source": [
    "from sklearn.preprocessing import MinMaxScaler\n",
    "sc = MinMaxScaler()"
   ]
  },
  {
   "cell_type": "code",
   "execution_count": null,
   "metadata": {},
   "outputs": [],
   "source": []
  },
  {
   "cell_type": "code",
   "execution_count": null,
   "metadata": {},
   "outputs": [],
   "source": []
  },
  {
   "cell_type": "markdown",
   "metadata": {},
   "source": [
    "# Comparing algorithms"
   ]
  },
  {
   "cell_type": "markdown",
   "metadata": {},
   "source": [
    "### Logistic Regression"
   ]
  },
  {
   "cell_type": "code",
   "execution_count": 133,
   "metadata": {},
   "outputs": [],
   "source": [
    "from sklearn.linear_model import LogisticRegression"
   ]
  },
  {
   "cell_type": "code",
   "execution_count": 134,
   "metadata": {},
   "outputs": [],
   "source": [
    "classifier = LogisticRegression()"
   ]
  },
  {
   "cell_type": "code",
   "execution_count": 135,
   "metadata": {},
   "outputs": [],
   "source": [
    "from sklearn.pipeline import Pipeline\n",
    "pipeline = Pipeline([('scaler', sc), ('lor', classifier)])"
   ]
  },
  {
   "cell_type": "code",
   "execution_count": 136,
   "metadata": {},
   "outputs": [],
   "source": [
    "lor = pipeline.fit(x_train, y_train)"
   ]
  },
  {
   "cell_type": "code",
   "execution_count": null,
   "metadata": {},
   "outputs": [],
   "source": []
  },
  {
   "cell_type": "code",
   "execution_count": 137,
   "metadata": {},
   "outputs": [],
   "source": [
    "y_pred = lor.predict(x_test)"
   ]
  },
  {
   "cell_type": "code",
   "execution_count": 138,
   "metadata": {},
   "outputs": [],
   "source": [
    "import sklearn.metrics as metrics\n",
    "fpr, tpr, threshold = metrics.roc_curve(y_test, y_pred)\n",
    "roc_auc = metrics.auc(fpr, tpr)"
   ]
  },
  {
   "cell_type": "code",
   "execution_count": 139,
   "metadata": {},
   "outputs": [
    {
     "data": {
      "text/plain": [
       "0.5505050505050505"
      ]
     },
     "execution_count": 139,
     "metadata": {},
     "output_type": "execute_result"
    }
   ],
   "source": [
    "roc_auc"
   ]
  },
  {
   "cell_type": "markdown",
   "metadata": {},
   "source": [
    "### Decision Tree"
   ]
  },
  {
   "cell_type": "code",
   "execution_count": 115,
   "metadata": {},
   "outputs": [
    {
     "data": {
      "text/plain": [
       "Pipeline(memory=None,\n",
       "     steps=[('scaler', MinMaxScaler(copy=True, feature_range=(0, 1))), ('pipe_dt', DecisionTreeClassifier(class_weight=None, criterion='entropy', max_depth=None,\n",
       "            max_features=None, max_leaf_nodes=None,\n",
       "            min_impurity_decrease=0.0, min_impurity_split=None,\n",
       "            min_samples_leaf=1, min_samples_split=2,\n",
       "            min_weight_fraction_leaf=0.0, presort=False, random_state=0,\n",
       "            splitter='best'))])"
      ]
     },
     "execution_count": 115,
     "metadata": {},
     "output_type": "execute_result"
    }
   ],
   "source": [
    "from sklearn.tree import DecisionTreeClassifier\n",
    "classifier_dt = DecisionTreeClassifier(criterion = 'entropy', random_state = 0)\n",
    "\n",
    "\n",
    "pipe_dt = Pipeline([('scaler', sc), ('pipe_dt', classifier_dt)])\n",
    "pipe_dt.fit(x_train, y_train)"
   ]
  },
  {
   "cell_type": "code",
   "execution_count": 140,
   "metadata": {},
   "outputs": [],
   "source": [
    "y_pred_dt = pipe_dt.predict(x_test)"
   ]
  },
  {
   "cell_type": "code",
   "execution_count": 141,
   "metadata": {},
   "outputs": [],
   "source": [
    "import sklearn.metrics as metrics\n",
    "fpr, tpr, threshold = metrics.roc_curve(y_test, y_pred_dt)\n",
    "roc_auc_dt = metrics.auc(fpr, tpr)"
   ]
  },
  {
   "cell_type": "code",
   "execution_count": 142,
   "metadata": {},
   "outputs": [
    {
     "data": {
      "text/plain": [
       "0.42929292929292928"
      ]
     },
     "execution_count": 142,
     "metadata": {},
     "output_type": "execute_result"
    }
   ],
   "source": [
    "roc_auc_dt"
   ]
  },
  {
   "cell_type": "markdown",
   "metadata": {},
   "source": [
    "### KNN"
   ]
  },
  {
   "cell_type": "code",
   "execution_count": 143,
   "metadata": {},
   "outputs": [
    {
     "data": {
      "text/plain": [
       "0.42929292929292928"
      ]
     },
     "execution_count": 143,
     "metadata": {},
     "output_type": "execute_result"
    }
   ],
   "source": [
    "from sklearn.neighbors import KNeighborsClassifier\n",
    "classifier_knn = KNeighborsClassifier(n_neighbors = 5, metric = 'minkowski', p = 2)\n",
    "classifier_knn.fit(x_train, y_train)\n",
    "\n",
    "y_pred_knn = classifier_knn.predict(x_test)\n",
    "\n",
    "import sklearn.metrics as metrics\n",
    "fpr, tpr, threshold = metrics.roc_curve(y_test, y_pred_knn)\n",
    "roc_auc_knn= metrics.auc(fpr, tpr)\n",
    "roc_auc_knn"
   ]
  },
  {
   "cell_type": "markdown",
   "metadata": {},
   "source": [
    "### SVM"
   ]
  },
  {
   "cell_type": "code",
   "execution_count": 144,
   "metadata": {},
   "outputs": [
    {
     "data": {
      "text/plain": [
       "0.53282828282828287"
      ]
     },
     "execution_count": 144,
     "metadata": {},
     "output_type": "execute_result"
    }
   ],
   "source": [
    "from sklearn.svm import SVC\n",
    "classifier_svc = SVC(kernel = 'linear')\n",
    "classifier_svc.fit(x_train, y_train)\n",
    "\n",
    "y_pred_svc = classifier_svc.predict(x_test)\n",
    "\n",
    "import sklearn.metrics as metrics\n",
    "fpr, tpr, threshold = metrics.roc_curve(y_test, y_pred_svc)\n",
    "roc_auc_svc = metrics.auc(fpr, tpr)\n",
    "roc_auc_svc"
   ]
  },
  {
   "cell_type": "code",
   "execution_count": 145,
   "metadata": {},
   "outputs": [
    {
     "data": {
      "text/plain": [
       "0.48232323232323232"
      ]
     },
     "execution_count": 145,
     "metadata": {},
     "output_type": "execute_result"
    }
   ],
   "source": [
    "from sklearn.svm import SVC\n",
    "classifier_svm = SVC(kernel = 'rbf', random_state = 0)\n",
    "classifier_svm.fit(x_train, y_train)\n",
    "\n",
    "y_pred_svm = classifier_svm.predict(x_test)\n",
    "\n",
    "import sklearn.metrics as metrics\n",
    "fpr, tpr, threshold = metrics.roc_curve(y_test, y_pred_svm)\n",
    "roc_auc_svm = metrics.auc(fpr, tpr)\n",
    "roc_auc_svm"
   ]
  },
  {
   "cell_type": "code",
   "execution_count": 146,
   "metadata": {},
   "outputs": [
    {
     "data": {
      "text/plain": [
       "0.61616161616161613"
      ]
     },
     "execution_count": 146,
     "metadata": {},
     "output_type": "execute_result"
    }
   ],
   "source": [
    "from sklearn.naive_bayes import GaussianNB\n",
    "classifier_nb = GaussianNB()\n",
    "classifier_nb.fit(x_train, y_train)\n",
    "\n",
    "y_pred_nb = classifier_nb.predict(x_test)\n",
    "\n",
    "import sklearn.metrics as metrics\n",
    "fpr, tpr, threshold = metrics.roc_curve(y_test, y_pred_nb)\n",
    "roc_nb = metrics.auc(fpr, tpr)\n",
    "roc_nb"
   ]
  },
  {
   "cell_type": "code",
   "execution_count": 147,
   "metadata": {},
   "outputs": [
    {
     "data": {
      "text/plain": [
       "[<matplotlib.lines.Line2D at 0x7f59695f3be0>,\n",
       " <matplotlib.lines.Line2D at 0x7f59695f3d68>,\n",
       " <matplotlib.lines.Line2D at 0x7f59695f3eb8>,\n",
       " <matplotlib.lines.Line2D at 0x7f59695fa048>,\n",
       " <matplotlib.lines.Line2D at 0x7f59695fa198>,\n",
       " <matplotlib.lines.Line2D at 0x7f59695fa2e8>,\n",
       " <matplotlib.lines.Line2D at 0x7f59695fa438>,\n",
       " <matplotlib.lines.Line2D at 0x7f59695fa588>,\n",
       " <matplotlib.lines.Line2D at 0x7f59695fa6d8>,\n",
       " <matplotlib.lines.Line2D at 0x7f59695fa828>,\n",
       " <matplotlib.lines.Line2D at 0x7f59695fa978>,\n",
       " <matplotlib.lines.Line2D at 0x7f59695faac8>]"
      ]
     },
     "execution_count": 147,
     "metadata": {},
     "output_type": "execute_result"
    },
    {
     "data": {
      "image/png": "[encoded data removed]",
      "text/plain": [
       "<matplotlib.figure.Figure at 0x7f5969e52048>"
      ]
     },
     "metadata": {},
     "output_type": "display_data"
    }
   ],
   "source": [
    "plt.plot(x_data,y_data)"
   ]
  },
  {
   "cell_type": "code",
   "execution_count": 148,
   "metadata": {},
   "outputs": [],
   "source": [
    "import seaborn as sns"
   ]
  },
  {
   "cell_type": "code",
   "execution_count": 149,
   "metadata": {},
   "outputs": [
    {
     "data": {
      "text/plain": [
       "RandomForestClassifier(bootstrap=True, class_weight=None, criterion='entropy',\n",
       "            max_depth=None, max_features='auto', max_leaf_nodes=None,\n",
       "            min_impurity_decrease=0.0, min_impurity_split=None,\n",
       "            min_samples_leaf=1, min_samples_split=2,\n",
       "            min_weight_fraction_leaf=0.0, n_estimators=10, n_jobs=1,\n",
       "            oob_score=False, random_state=0, verbose=0, warm_start=False)"
      ]
     },
     "execution_count": 149,
     "metadata": {},
     "output_type": "execute_result"
    }
   ],
   "source": [
    "from sklearn.ensemble import RandomForestClassifier\n",
    "classifier_rf = RandomForestClassifier(criterion = 'entropy', n_estimators=10, random_state = 0)\n",
    "classifier_rf.fit(x_train, y_train)"
   ]
  },
  {
   "cell_type": "code",
   "execution_count": 150,
   "metadata": {},
   "outputs": [],
   "source": [
    "y_pred_rf = classifier_rf.predict(x_test)"
   ]
  },
  {
   "cell_type": "code",
   "execution_count": 151,
   "metadata": {},
   "outputs": [
    {
     "data": {
      "text/plain": [
       "0.61616161616161613"
      ]
     },
     "execution_count": 151,
     "metadata": {},
     "output_type": "execute_result"
    }
   ],
   "source": [
    "import sklearn.metrics as metrics\n",
    "fpr, tpr, threshold = metrics.roc_curve(y_test, y_pred_nb)\n",
    "roc_rf = metrics.auc(fpr, tpr)\n",
    "roc_rf"
   ]
  },
  {
   "cell_type": "code",
   "execution_count": 152,
   "metadata": {},
   "outputs": [],
   "source": [
    "import matplotlib.pyplot as plt"
   ]
  },
  {
   "cell_type": "code",
   "execution_count": 59,
   "metadata": {},
   "outputs": [
    {
     "data": {
      "text/plain": [
       "[<matplotlib.lines.Line2D at 0x7f596b685860>,\n",
       " <matplotlib.lines.Line2D at 0x7f596b6859e8>]"
      ]
     },
     "execution_count": 59,
     "metadata": {},
     "output_type": "execute_result"
    },
    {
     "data": {
      "image/png": "[encoded data removed]",
      "text/plain": [
       "<matplotlib.figure.Figure at 0x7f596be02d68>"
      ]
     },
     "metadata": {},
     "output_type": "display_data"
    }
   ],
   "source": [
    "plt.plot(x_data,y_data)"
   ]
  },
  {
   "cell_type": "code",
   "execution_count": null,
   "metadata": {},
   "outputs": [],
   "source": []
  },
  {
   "cell_type": "code",
   "execution_count": null,
   "metadata": {},
   "outputs": [],
   "source": []
  }
 ],
 "metadata": {
  "kernelspec": {
   "display_name": "Python 3",
   "language": "python",
   "name": "python3"
  },
  "toc": {
   "base_numbering": 1,
   "nav_menu": {},
   "number_sections": true,
   "sideBar": true,
   "skip_h1_title": false,
   "title_cell": "Table of Contents",
   "title_sidebar": "Contents",
   "toc_cell": false,
   "toc_position": {},
   "toc_section_display": true,
   "toc_window_display": false
  },
  "varInspector": {
   "cols": {
    "lenName": 16,
    "lenType": 16,
    "lenVar": 40
   },
   "kernels_config": {
    "python": {
     "delete_cmd_postfix": "",
     "delete_cmd_prefix": "del ",
     "library": "var_list.py",
     "varRefreshCmd": "print(var_dic_list())"
    },
    "r": {
     "delete_cmd_postfix": ") ",
     "delete_cmd_prefix": "rm(",
     "library": "var_list.r",
     "varRefreshCmd": "cat(var_dic_list()) "
    }
   },
   "types_to_exclude": [
    "module",
    "function",
    "builtin_function_or_method",
    "instance",
    "_Feature"
   ],
   "window_display": false
  }
 },
 "nbformat": 4,
 "nbformat_minor": 1
}
